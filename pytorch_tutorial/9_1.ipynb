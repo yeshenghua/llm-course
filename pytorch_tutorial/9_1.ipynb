{
 "cells": [
  {
   "metadata": {},
   "cell_type": "code",
   "outputs": [],
   "execution_count": null,
   "source": [
    "'''\n",
    "for large dataset\n",
    "\n",
    "if do gradient calculation on whole training set, would be time consuming\n",
    "\n",
    "divide sample into smaller batches by using DataSet and DataLoader to load .csv file\n",
    "'''\n",
    "\n",
    "\n",
    "'''\n",
    "epoch = 1 foward and backward pass of all training samples\n",
    "\n",
    "batch_size = number of samples in one forward & backward pass\n",
    "\n",
    "num_of_iterations = number of forward & backward  passes, each pass using one [batch_size] of samples \n",
    "\n",
    "e.g. 100 samples, batch_size = 20 -> 5 iterations for 1 epoch\n",
    "'''\n"
   ],
   "id": "4baac81ec724113e"
  },
  {
   "metadata": {
    "ExecuteTime": {
     "end_time": "2024-05-06T08:05:57.557889Z",
     "start_time": "2024-05-06T08:05:54.308228Z"
    }
   },
   "cell_type": "code",
   "source": [
    "import torch\n",
    "import torchvision\n",
    "from torch.utils.data import Dataset, DataLoader\n",
    "import numpy as np\n",
    "import math"
   ],
   "id": "8d03e89083e46810",
   "outputs": [],
   "execution_count": 1
  },
  {
   "metadata": {
    "ExecuteTime": {
     "end_time": "2024-05-06T14:42:54.135828Z",
     "start_time": "2024-05-06T14:42:54.127828Z"
    }
   },
   "cell_type": "code",
   "source": [
    "class WineDataset(Dataset):         # inherit DataSet\n",
    "    \n",
    "    def __init__(self):\n",
    "        # data loading\n",
    "        xy = np.loadtxt('./data/wine.csv', delimiter=',',dtype=np.float32, skiprows = 1)\n",
    "        self.x = xy[:, 1:]\n",
    "        self.y = xy[:, [0]]         # not equal to xy[:,0]  which has shape (178, )  \n",
    "        # print(xy.shape)\n",
    "        # print(self.y.shape)\n",
    "        self.n_samples = xy.shape[0]\n",
    "        \n",
    "    def __getitem__(self, index):\n",
    "        # indexing\n",
    "        return self.x[index], self.y[index]  # a tuple\n",
    "\n",
    "    def __len__(self):\n",
    "        return self.n_samples\n",
    "    \n",
    "dataset = WineDataset()\n",
    "first_data = dataset[0]\n",
    "\n"
   ],
   "id": "bd603951cdbf967",
   "outputs": [
    {
     "name": "stdout",
     "output_type": "stream",
     "text": [
      "(178, 14)\n",
      "(178,)\n"
     ]
    }
   ],
   "execution_count": 10
  },
  {
   "metadata": {},
   "cell_type": "code",
   "outputs": [],
   "execution_count": null,
   "source": "",
   "id": "42661349f57bc69a"
  }
 ],
 "metadata": {
  "kernelspec": {
   "display_name": "Python 3",
   "language": "python",
   "name": "python3"
  },
  "language_info": {
   "codemirror_mode": {
    "name": "ipython",
    "version": 2
   },
   "file_extension": ".py",
   "mimetype": "text/x-python",
   "name": "python",
   "nbconvert_exporter": "python",
   "pygments_lexer": "ipython2",
   "version": "2.7.6"
  }
 },
 "nbformat": 4,
 "nbformat_minor": 5
}
