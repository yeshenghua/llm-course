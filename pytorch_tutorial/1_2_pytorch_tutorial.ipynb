{
 "cells": [
  {
   "cell_type": "code",
   "id": "initial_id",
   "metadata": {
    "collapsed": true,
    "ExecuteTime": {
     "end_time": "2024-05-01T12:23:08.525723Z",
     "start_time": "2024-05-01T12:23:04.397735Z"
    }
   },
   "source": [
    "import torch\n",
    "\n",
    "x = torch.rand(2,2)\n",
    "y = torch.rand(2,2)\n",
    "\n",
    "# element-wise operations\n",
    "z = torch.add(x,y)\n",
    "z = torch.mul(x,y)\n",
    "\n",
    "# y = y + x element-wise\n",
    "y.add_(x)\n",
    "\n",
    "print(x)\n",
    "print(y)\n",
    "print(z)\n",
    "\n",
    "# view\n",
    "x = torch.rand(4,4)\n",
    "print(x)\n",
    "y = x.view(16)\n",
    "print(y)\n",
    "y = x.view(-1, 8)\n",
    "print(y.size())\n"
   ],
   "outputs": [
    {
     "name": "stdout",
     "output_type": "stream",
     "text": [
      "tensor([[0.6709, 0.8830],\n",
      "        [0.3393, 0.1578]])\n",
      "tensor([[0.9611, 1.1458],\n",
      "        [1.2470, 0.9823]])\n",
      "tensor([[0.1947, 0.2320],\n",
      "        [0.3080, 0.1301]])\n",
      "tensor([[0.4396, 0.9160, 0.8195, 0.1488],\n",
      "        [0.8592, 0.7503, 0.0295, 0.2445],\n",
      "        [0.0686, 0.2243, 0.9831, 0.8840],\n",
      "        [0.0936, 0.9774, 0.6000, 0.8758]])\n",
      "tensor([0.4396, 0.9160, 0.8195, 0.1488, 0.8592, 0.7503, 0.0295, 0.2445, 0.0686,\n",
      "        0.2243, 0.9831, 0.8840, 0.0936, 0.9774, 0.6000, 0.8758])\n",
      "torch.Size([2, 8])\n"
     ]
    }
   ],
   "execution_count": 1
  },
  {
   "metadata": {
    "jupyter": {
     "is_executing": true
    }
   },
   "cell_type": "code",
   "source": "",
   "id": "23106e8dc0a878a3",
   "outputs": [],
   "execution_count": null
  },
  {
   "metadata": {},
   "cell_type": "code",
   "outputs": [],
   "execution_count": null,
   "source": "",
   "id": "27cfce9ba733cdba"
  }
 ],
 "metadata": {
  "kernelspec": {
   "display_name": "Python 3",
   "language": "python",
   "name": "python3"
  },
  "language_info": {
   "codemirror_mode": {
    "name": "ipython",
    "version": 2
   },
   "file_extension": ".py",
   "mimetype": "text/x-python",
   "name": "python",
   "nbconvert_exporter": "python",
   "pygments_lexer": "ipython2",
   "version": "2.7.6"
  }
 },
 "nbformat": 4,
 "nbformat_minor": 5
}
