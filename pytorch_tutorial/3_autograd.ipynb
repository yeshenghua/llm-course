{
 "cells": [
  {
   "cell_type": "code",
   "id": "initial_id",
   "metadata": {
    "collapsed": true,
    "ExecuteTime": {
     "end_time": "2024-05-01T12:23:28.151140Z",
     "start_time": "2024-05-01T12:23:26.298909Z"
    }
   },
   "source": "import torch",
   "outputs": [],
   "execution_count": 1
  },
  {
   "metadata": {
    "ExecuteTime": {
     "end_time": "2024-05-01T12:24:06.509685Z",
     "start_time": "2024-05-01T12:24:05.787330Z"
    }
   },
   "cell_type": "code",
   "source": [
    "# require_grad for those array that needs cal grad\n",
    "x = torch.randn(3, requires_grad=True)\n",
    "print(x)\n",
    "\n",
    "y = x + 2\n",
    "print(y)\n",
    "z = y * y * 2\n",
    "print(z)\n",
    "# z = z.mean()        # z is scalar now, if comment this, backward would error unless use a para\n",
    "print(z)\n",
    "# backward()\n",
    "v = torch.tensor([0.1, 1.0, 0.001], dtype=torch.float32)\n",
    "z.backward(v)                         # same size, J * v - chain rule\n",
    "# z.backward()        # dz/dx\n",
    "print(x.grad)"
   ],
   "id": "200879012bccb245",
   "outputs": [
    {
     "name": "stdout",
     "output_type": "stream",
     "text": [
      "tensor([ 1.3391, -0.2452,  0.5660], requires_grad=True)\n",
      "tensor([3.3391, 1.7548, 2.5660], grad_fn=<AddBackward0>)\n",
      "tensor([22.2997,  6.1585, 13.1688], grad_fn=<MulBackward0>)\n",
      "tensor([22.2997,  6.1585, 13.1688], grad_fn=<MulBackward0>)\n",
      "tensor([1.3357, 7.0191, 0.0103])\n"
     ]
    }
   ],
   "execution_count": 4
  },
  {
   "metadata": {
    "ExecuteTime": {
     "end_time": "2024-05-01T12:24:21.680836Z",
     "start_time": "2024-05-01T12:24:21.675215Z"
    }
   },
   "cell_type": "code",
   "source": [
    "# no grad operation\n",
    "x = torch.randn(3, requires_grad=True)\n",
    "print(x)\n",
    "\n",
    "# # 1.\n",
    "# x.requires_grad_(False)             # _ -> inplace operation\n",
    "# print(x)\n",
    "# \n",
    "# # 2.\n",
    "# y = x.detach()\n",
    "# print(y)\n",
    "\n",
    "# 3.\n",
    "with torch.no_grad():\n",
    "    y = x + 2\n",
    "    print(y)"
   ],
   "id": "209e5d48c95104",
   "outputs": [
    {
     "name": "stdout",
     "output_type": "stream",
     "text": [
      "tensor([ 1.0201, -0.8884, -0.0540], requires_grad=True)\n",
      "tensor([3.0201, 1.1116, 1.9460])\n"
     ]
    }
   ],
   "execution_count": 5
  },
  {
   "metadata": {
    "ExecuteTime": {
     "end_time": "2024-05-01T12:24:26.559799Z",
     "start_time": "2024-05-01T12:24:26.553804Z"
    }
   },
   "cell_type": "code",
   "source": [
    "# grad accumulation\n",
    "weights = torch.ones(4, requires_grad=True)\n",
    "\n",
    "for epoch in range(3):\n",
    "    model_output = (weights * 3).sum()          # grad should always be three\n",
    "    model_output.backward()\n",
    "    # weights.grad.zero_()                  # has to add this to zero the grads\n",
    "    print(weights.grad)"
   ],
   "id": "f7a176e217669eb3",
   "outputs": [
    {
     "name": "stdout",
     "output_type": "stream",
     "text": [
      "tensor([3., 3., 3., 3.])\n",
      "tensor([6., 6., 6., 6.])\n",
      "tensor([9., 9., 9., 9.])\n"
     ]
    }
   ],
   "execution_count": 6
  },
  {
   "metadata": {},
   "cell_type": "code",
   "outputs": [],
   "execution_count": null,
   "source": "",
   "id": "613a6868b8fc1090"
  }
 ],
 "metadata": {
  "kernelspec": {
   "display_name": "Python 3",
   "language": "python",
   "name": "python3"
  },
  "language_info": {
   "codemirror_mode": {
    "name": "ipython",
    "version": 2
   },
   "file_extension": ".py",
   "mimetype": "text/x-python",
   "name": "python",
   "nbconvert_exporter": "python",
   "pygments_lexer": "ipython2",
   "version": "2.7.6"
  }
 },
 "nbformat": 4,
 "nbformat_minor": 5
}
