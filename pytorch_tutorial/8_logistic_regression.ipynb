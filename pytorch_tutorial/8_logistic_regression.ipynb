{
 "cells": [
  {
   "cell_type": "code",
   "id": "initial_id",
   "metadata": {
    "collapsed": true,
    "ExecuteTime": {
     "end_time": "2024-05-06T07:52:51.168288Z",
     "start_time": "2024-05-06T07:52:51.164287Z"
    }
   },
   "source": [
    "import torch\n",
    "import torch.nn as nn\n",
    "import numpy as np\n",
    "from sklearn import datasets\n",
    "from sklearn.preprocessing import StandardScaler\n",
    "from sklearn.model_selection import train_test_split"
   ],
   "outputs": [],
   "execution_count": 3
  },
  {
   "metadata": {
    "ExecuteTime": {
     "end_time": "2024-05-06T07:52:40.574336Z",
     "start_time": "2024-05-06T07:52:40.022691Z"
    }
   },
   "cell_type": "code",
   "source": [
    "# logistic regression\n",
    "# 用来解决二分类问题\n",
    "\n",
    "\n",
    "# 0) prepare data\n",
    "bc = datasets.load_breast_cancer()          # binary classification problem\n",
    "X, y = bc.data, bc.target\n",
    "\n",
    "n_samples, n_features = X.shape\n",
    "print(n_samples, n_features)\n",
    "\n",
    "X_train, X_test, y_train, y_test = train_test_split(X, y, test_size=0.2, random_state=1234)\n",
    "# print(y_train)\n",
    "# print(X_train)\n",
    "\n",
    "# scale\n",
    "sc = StandardScaler()\n",
    "X_train = sc.fit_transform(X_train)             # make feature with zero mean and unit variance\n",
    "X_test = sc.transform(X_test)                   \n",
    "\n",
    "X_train = torch.from_numpy(X_train.astype(np.float32))\n",
    "X_test = torch.from_numpy(X_test.astype(np.float32))\n",
    "y_train = torch.from_numpy(y_train.astype(np.float32))\n",
    "y_test = torch.from_numpy(y_test.astype(np.float32))\n",
    "\n",
    "y_train = y_train.view(y_train.shape[0], 1)             # transfer to a tensor with only one column, each value in one row\n",
    "y_test = y_test.view(y_test.shape[0], 1)\n",
    "print(y_train.shape)\n",
    "\n",
    "# 1) model\n",
    "# f = w * x + b, sigmoid at the end\n",
    "class LogisticRegression(nn.Module):\n",
    "    def __init__(self, n_input_features):\n",
    "        super(LogisticRegression, self).__init__()              # so that LogisticRegression use the initialization of nn.Module\n",
    "        self.Linear = nn.Linear(n_input_features, 1)\n",
    "\n",
    "    def forward(self, x):\n",
    "        y_pred = torch.sigmoid(self.Linear(x))\n",
    "        return y_pred\n",
    "    \n",
    "# 2) loss and optimizer\n",
    "learning_rate = 0.01\n",
    "model = LogisticRegression(n_features)\n",
    "criterion = nn.BCELoss()\n",
    "optimizer = torch.optim.SGD(model.parameters(), lr=learning_rate)\n",
    "\n",
    "# 3) training loop\n",
    "epochs = 200\n",
    "for epoch in range(epochs):\n",
    "    # forward and loss\n",
    "    y_pred = model.forward(X_train)\n",
    "    loss = criterion(y_pred, y_train)\n",
    "    \n",
    "    # backward\n",
    "    loss.backward()\n",
    "    \n",
    "    # update\n",
    "    optimizer.step()\n",
    "    optimizer.zero_grad()\n",
    "    \n",
    "    if epoch % 10 == 0:\n",
    "        print(f'Epoch: {epoch // 10}, Loss: {loss:.4f}')\n",
    "\n",
    "with torch.no_grad():\n",
    "    y_pred = model.forward(X_test)         \n",
    "    # print(y_pred)\n",
    "    y_pred_cls = y_pred.round()\n",
    "    # print(y_pred_cls)\n",
    "    acc = y_pred_cls.eq(y_test).sum() / float(y_test.shape[0])\n",
    "    \n",
    "    print(f'Accuracy: {acc:.4f}')\n"
   ],
   "id": "c6d7009b5bf7e234",
   "outputs": [
    {
     "ename": "NameError",
     "evalue": "name 'datasets' is not defined",
     "output_type": "error",
     "traceback": [
      "\u001B[1;31m---------------------------------------------------------------------------\u001B[0m",
      "\u001B[1;31mNameError\u001B[0m                                 Traceback (most recent call last)",
      "Cell \u001B[1;32mIn[1], line 6\u001B[0m\n\u001B[0;32m      1\u001B[0m \u001B[38;5;66;03m# logistic regression\u001B[39;00m\n\u001B[0;32m      2\u001B[0m \u001B[38;5;66;03m# 用来解决二分类问题\u001B[39;00m\n\u001B[0;32m      3\u001B[0m \n\u001B[0;32m      4\u001B[0m \n\u001B[0;32m      5\u001B[0m \u001B[38;5;66;03m# 0) prepare data\u001B[39;00m\n\u001B[1;32m----> 6\u001B[0m bc \u001B[38;5;241m=\u001B[39m \u001B[43mdatasets\u001B[49m\u001B[38;5;241m.\u001B[39mload_breast_cancer()          \u001B[38;5;66;03m# binary classification problem\u001B[39;00m\n\u001B[0;32m      7\u001B[0m X, y \u001B[38;5;241m=\u001B[39m bc\u001B[38;5;241m.\u001B[39mdata, bc\u001B[38;5;241m.\u001B[39mtarget\n\u001B[0;32m      9\u001B[0m n_samples, n_features \u001B[38;5;241m=\u001B[39m X\u001B[38;5;241m.\u001B[39mshape\n",
      "\u001B[1;31mNameError\u001B[0m: name 'datasets' is not defined"
     ]
    }
   ],
   "execution_count": 1
  },
  {
   "metadata": {},
   "cell_type": "code",
   "outputs": [],
   "execution_count": null,
   "source": "",
   "id": "e245e422dc31dfcc"
  }
 ],
 "metadata": {
  "kernelspec": {
   "display_name": "Python 3",
   "language": "python",
   "name": "python3"
  },
  "language_info": {
   "codemirror_mode": {
    "name": "ipython",
    "version": 2
   },
   "file_extension": ".py",
   "mimetype": "text/x-python",
   "name": "python",
   "nbconvert_exporter": "python",
   "pygments_lexer": "ipython2",
   "version": "2.7.6"
  }
 },
 "nbformat": 4,
 "nbformat_minor": 5
}
