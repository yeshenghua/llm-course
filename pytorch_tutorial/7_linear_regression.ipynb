{
 "cells": [
  {
   "metadata": {},
   "cell_type": "markdown",
   "source": [
    "1) Design model (input, output size, forward pass)\n",
    "2) Construct loss and optimizer\n",
    "3) Training Loop\n",
    "    \n",
    "    forward pass: compute prediction and loss\n",
    "   \n",
    "    backward pass: gradients\n",
    "   \n",
    "    update weights"
   ],
   "id": "981601dcda115e01"
  },
  {
   "metadata": {},
   "cell_type": "markdown",
   "source": "",
   "id": "3b16518d1038ac69"
  },
  {
   "metadata": {
    "ExecuteTime": {
     "end_time": "2024-05-06T04:30:03.733221Z",
     "start_time": "2024-05-06T04:30:03.628301Z"
    }
   },
   "cell_type": "code",
   "source": [
    "import torch\n",
    "import torch.nn as nn\n",
    "import numpy as np\n",
    "from sklearn import datasets\n",
    "import matplotlib.pyplot as plt\n",
    "\n",
    "# 0) prepare data\n",
    "X_numpy, y_numpy = datasets.make_regression(n_samples=100, n_features=1, noise=20,random_state=1)\n",
    "# print(X_numpy)\n",
    "# print(y_numpy)\n",
    "\n",
    "X = torch.from_numpy(X_numpy.astype(np.float32))            # double -> error would occur\n",
    "# print(X)\n",
    "y = torch.from_numpy(y_numpy.astype(np.float32))\n",
    "# print(y)\n",
    "y = y.view(y.shape[0],1)\n",
    "# print(y)\n",
    "\n",
    "n_samples, n_features = X.shape\n",
    "\n",
    "# 1) model\n",
    "input_size = n_features\n",
    "output_size = 1\n",
    "model = nn.Linear(input_size, output_size)\n",
    "\n",
    "# 2) loss and optimizer\n",
    "learning_rate = 0.01\n",
    "criterion = nn.MSELoss()\n",
    "optimizer = torch.optim.SGD(model.parameters(), lr=learning_rate)\n",
    "\n",
    "# 3) training loop\n",
    "num_epochs = 100\n",
    "for epoch in range(num_epochs):\n",
    "    # forward pass: compute prediction and loss\n",
    "    y_pred = model.forward(X)\n",
    "    loss = criterion(y_pred, y)\n",
    "    \n",
    "    # backward pass \n",
    "    loss.backward()\n",
    "    \n",
    "    # update\n",
    "    # with torch.no_grad():\n",
    "    optimizer.step()\n",
    "    optimizer.zero_grad()\n",
    "\n",
    "    if (epoch + 1 )% 10 == 0:\n",
    "        print(f'Epoch: {epoch + 1}, Loss: {loss.item():.4f}')\n",
    "        \n",
    "# plot\n",
    "predicted = model(X).detach().numpy()               # detach() 分离一个require_grad = False 的新张量\n",
    "plt.plot(X_numpy, y_numpy, 'ro') \n",
    "plt.plot(X_numpy, predicted, 'b')\n",
    "plt.show()\n"
   ],
   "id": "7dd6d0e864d13fb0",
   "outputs": [
    {
     "name": "stdout",
     "output_type": "stream",
     "text": [
      "Epoch: 10, Loss: 4293.4160\n",
      "Epoch: 20, Loss: 3204.6106\n",
      "Epoch: 30, Loss: 2416.9976\n",
      "Epoch: 40, Loss: 1846.6417\n",
      "Epoch: 50, Loss: 1433.1982\n",
      "Epoch: 60, Loss: 1133.2201\n",
      "Epoch: 70, Loss: 915.3808\n",
      "Epoch: 80, Loss: 757.0639\n",
      "Epoch: 90, Loss: 641.9221\n",
      "Epoch: 100, Loss: 558.1241\n"
     ]
    },
    {
     "data": {
      "text/plain": [
       "<Figure size 640x480 with 1 Axes>"
      ],
      "image/png": "[encoded data removed]"
     },
     "metadata": {},
     "output_type": "display_data"
    }
   ],
   "execution_count": 4
  },
  {
   "metadata": {
    "ExecuteTime": {
     "end_time": "2024-05-06T04:29:50.827495Z",
     "start_time": "2024-05-06T04:29:50.824985Z"
    }
   },
   "cell_type": "code",
   "source": "",
   "id": "c90257c6b692ecaa",
   "outputs": [],
   "execution_count": 2
  },
  {
   "metadata": {},
   "cell_type": "code",
   "outputs": [],
   "execution_count": null,
   "source": "",
   "id": "814efad7d910f9a3"
  }
 ],
 "metadata": {
  "kernelspec": {
   "display_name": "Python 3",
   "language": "python",
   "name": "python3"
  },
  "language_info": {
   "codemirror_mode": {
    "name": "ipython",
    "version": 2
   },
   "file_extension": ".py",
   "mimetype": "text/x-python",
   "name": "python",
   "nbconvert_exporter": "python",
   "pygments_lexer": "ipython2",
   "version": "2.7.6"
  }
 },
 "nbformat": 4,
 "nbformat_minor": 5
}
